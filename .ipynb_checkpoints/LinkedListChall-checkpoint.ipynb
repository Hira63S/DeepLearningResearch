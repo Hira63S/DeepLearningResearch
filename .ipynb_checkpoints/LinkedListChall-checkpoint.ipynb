{
 "cells": [
  {
   "cell_type": "markdown",
   "metadata": {},
   "source": [
    "## Doubly Linked List Challenge\n",
    "\n",
    "Since it is a doubly linked list, we are going to change the pointers for both next and prev.\n",
    "\n"
   ]
  },
  {
   "cell_type": "code",
   "execution_count": 2,
   "metadata": {},
   "outputs": [],
   "source": [
    "# 1<-->2 <-->3 <-->4\n",
    "\n",
    "# we need to make changes to both the next pointer and previous pointer\n",
    "# when we start at the first node of 1:\n",
    "# 1.prev would be None and 1.next would be 2. \n",
    "# We swap it so that 1.next would be none and 1.prev would be 2.\n",
    "# \n",
    "\n",
    "def reverse(head):\n",
    "    \n",
    "    if head.next != None:\n",
    "        head.next, head.prev, head = head.prev, head.next, head.next\n",
    "    \n",
    "    # for the tail node i.e. NULL, the head.next would be head.prev i.e.3\n",
    "    # so we will take 3 and make it the next Node but head.prev would point to None\n",
    "    \n",
    "    head.next, head.prev = head.prev, None"
   ]
  },
  {
   "cell_type": "code",
   "execution_count": null,
   "metadata": {},
   "outputs": [],
   "source": []
  }
 ],
 "metadata": {
  "kernelspec": {
   "display_name": "Python 3",
   "language": "python",
   "name": "python3"
  },
  "language_info": {
   "codemirror_mode": {
    "name": "ipython",
    "version": 3
   },
   "file_extension": ".py",
   "mimetype": "text/x-python",
   "name": "python",
   "nbconvert_exporter": "python",
   "pygments_lexer": "ipython3",
   "version": "3.7.3"
  }
 },
 "nbformat": 4,
 "nbformat_minor": 2
}
