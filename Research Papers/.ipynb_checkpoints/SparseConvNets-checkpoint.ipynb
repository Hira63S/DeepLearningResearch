{
 "cells": [
  {
   "cell_type": "markdown",
   "metadata": {},
   "source": [
    "# Sparse Convolutional Networks\n",
    "\n",
    "### A detailed overview of the Sparse ConvNets for 4D Spatio-Temporal ConvNets\n",
    "[Paper Link](https://arxiv.org/pdf/1904.08755.pdf)"
   ]
  },
  {
   "cell_type": "markdown",
   "metadata": {},
   "source": [
    "Sparse ConvNets are ideal for 3D data processing because the parameters increase exponentially with the increase in dimensions. For exampl,e for a 2D conv, the kernel size of 5 requires 5^^2 = 25 weights, which increase to 5^3 = 125 in a 3D cube and 625 in a 4D tesseract.\n",
    "Using the generalized sparse convolutions, we use custom kernels with non-(hyper)-cubic shapes.\n",
    "\n",
    "\n",
    "\n",
    "\n"
   ]
  },
  {
   "cell_type": "markdown",
   "metadata": {},
   "source": [
    "Predictions from 4D ConvNets are not consistent across time and space when using generalized sparse ConvNets. So, high-dimensional conditional random fields defined in a 7D trilateral space (space-time-color) are proposed with a stationary pairwise consistency function. \n"
   ]
  },
  {
   "cell_type": "markdown",
   "metadata": {},
   "source": [
    "Using convolution for temporal axis.\n"
   ]
  },
  {
   "cell_type": "markdown",
   "metadata": {},
   "source": [
    "Since images have a lot of irrelevant data, we transform the data into sparse tensors data. The matrix contains 4d coordinates as C: {(x_i, y_i, z_i, t_i)}_i_ and a set of features as: F = {f_i}_i"
   ]
  },
  {
   "cell_type": "markdown",
   "metadata": {},
   "source": [
    "In essence, a sparse tensor is a multi-dimensional array with most of the elements at zero. We represent a sparse tensor with two matrices: C matric contains the coordinates where there are non-zero values and F matrix is actual non-zero value (for example, pixels etc.) "
   ]
  },
  {
   "cell_type": "markdown",
   "metadata": {},
   "source": []
  },
  {
   "cell_type": "code",
   "execution_count": null,
   "metadata": {},
   "outputs": [],
   "source": []
  }
 ],
 "metadata": {
  "kernelspec": {
   "display_name": "Python 3",
   "language": "python",
   "name": "python3"
  },
  "language_info": {
   "codemirror_mode": {
    "name": "ipython",
    "version": 3
   },
   "file_extension": ".py",
   "mimetype": "text/x-python",
   "name": "python",
   "nbconvert_exporter": "python",
   "pygments_lexer": "ipython3",
   "version": "3.7.3"
  }
 },
 "nbformat": 4,
 "nbformat_minor": 2
}
