{
 "cells": [
  {
   "cell_type": "markdown",
   "metadata": {},
   "source": [
    "# Monocular Plan View Networks"
   ]
  },
  {
   "cell_type": "markdown",
   "metadata": {},
   "source": [
    "### Architecture\n",
    "\n",
    "The RGB image is taken through a CovNet to make 2D object detection predictions.\n",
    "The coordinates for the objects are then passed through a 3D network that compute the depth, the rotation and 3D size of each object.\n",
    "A reprojection layer puts each 3D object into plan view image using the 3D bounding box info.\n",
    "The originalimage and the generated plan view are passed through separate convnets and globally pooled into two feature vectors.\n",
    "The resulting vectors are concatenated and fed to a fully conv layer which outputs discrete action.\n"
   ]
  },
  {
   "cell_type": "markdown",
   "metadata": {},
   "source": [
    "# Bird's Eye View Network"
   ]
  },
  {
   "cell_type": "markdown",
   "metadata": {},
   "source": []
  },
  {
   "cell_type": "markdown",
   "metadata": {},
   "source": [
    "Neural network stack is taking more and more software 1.0. No Heuristics, only if the network says so.\n",
    "Stitch up of the layout. Stitching across time and across space of the output from all the camera outputs.\n",
    "Individual views go through the camera, there is a fusion layer that extracts features. Fusion layer that does things like feature transforms and re-puts it in the image space and temporally smooth it. Decoder gives all the predictions. Bird's eye view networks: Take in the views from all the "
   ]
  },
  {
   "cell_type": "code",
   "execution_count": null,
   "metadata": {},
   "outputs": [],
   "source": []
  },
  {
   "cell_type": "code",
   "execution_count": null,
   "metadata": {},
   "outputs": [],
   "source": []
  },
  {
   "cell_type": "code",
   "execution_count": null,
   "metadata": {},
   "outputs": [],
   "source": []
  }
 ],
 "metadata": {
  "kernelspec": {
   "display_name": "Python 3",
   "language": "python",
   "name": "python3"
  },
  "language_info": {
   "codemirror_mode": {
    "name": "ipython",
    "version": 3
   },
   "file_extension": ".py",
   "mimetype": "text/x-python",
   "name": "python",
   "nbconvert_exporter": "python",
   "pygments_lexer": "ipython3",
   "version": "3.7.3"
  }
 },
 "nbformat": 4,
 "nbformat_minor": 2
}
