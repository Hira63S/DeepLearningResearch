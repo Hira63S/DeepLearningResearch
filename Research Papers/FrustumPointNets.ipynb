{
 "cells": [
  {
   "cell_type": "markdown",
   "metadata": {},
   "source": [
    "# PointNets -> Frustum PointNets\n",
    "The later builds on the concepts from the first one so we are going to take a look at it."
   ]
  },
  {
   "cell_type": "markdown",
   "metadata": {},
   "source": [
    "## PointNet:\n",
    "Takes in point cloud as input and outputs either class labels for the entire input or per point segment/part labels for eeach point of the input.\n",
    "Each point is processed independently and is represented by just three coordinates (x, y, z).\n",
    "\n",
    "1. Consumes unordered point sets in 3D.\n",
    "2. 3D space classification, shape part segmentation and scene semantic parsing\n",
    "3. Detailed empirical and theoretical analysis on the stability and efficiency of our method\n",
    "4. Illustratio of 3D features computed by the selected neurons in the net and develop intuitive explanations on it's performance."
   ]
  },
  {
   "cell_type": "markdown",
   "metadata": {},
   "source": [
    "## Problem\n",
    "Point Cloud: {P_i | i = 1, .... , n}\n",
    "Where each point P_i is a vecctor of its (x, y, z) coordinates as well as additional information like color channels etc. \n",
    "For simplicity, we only used the (x,y,z) coordinates as the point's channels. \n",
    "\n",
    "\n",
    "### Euclidean Space:\n",
    "Where points are represented by coordinates (one for each dimension) and the distance between teh points is given by distance formula.\n",
    "\n",
    "In Euclidean Space, the point sets have following properties:\n",
    "**Unordered**. Unlike Pixel arrays in images, the point sets are random without specific order. So, the network needs to be able to consume N 3D point sets to be invariant to N! permutations of the input set in data feeding order.\n",
    "**Interaction among points.** "
   ]
  },
  {
   "cell_type": "code",
   "execution_count": null,
   "metadata": {},
   "outputs": [],
   "source": []
  },
  {
   "cell_type": "code",
   "execution_count": null,
   "metadata": {},
   "outputs": [],
   "source": []
  },
  {
   "cell_type": "code",
   "execution_count": null,
   "metadata": {},
   "outputs": [],
   "source": []
  }
 ],
 "metadata": {
  "kernelspec": {
   "display_name": "Python 3",
   "language": "python",
   "name": "python3"
  },
  "language_info": {
   "codemirror_mode": {
    "name": "ipython",
    "version": 3
   },
   "file_extension": ".py",
   "mimetype": "text/x-python",
   "name": "python",
   "nbconvert_exporter": "python",
   "pygments_lexer": "ipython3",
   "version": "3.7.3"
  }
 },
 "nbformat": 4,
 "nbformat_minor": 2
}
