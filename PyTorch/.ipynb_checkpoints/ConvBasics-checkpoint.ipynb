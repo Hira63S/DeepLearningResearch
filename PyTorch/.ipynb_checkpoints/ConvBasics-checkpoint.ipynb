{
 "cells": [
  {
   "cell_type": "markdown",
   "metadata": {},
   "source": [
    "# Transposed Convolution\n",
    "\n",
    "Going from 4D space 16D space.\n",
    "\n",
    "A transposed convolution can be thought of as getting an output from a feature map by performing convolution and then, transposed convolution is the operation that allows us to recover the shape of the initial feature map. \n",
    "\n",
    "When we have an input of 4x4 and do a 3x3 conv on it, we will get an output of size 2x2. To perform transposed convolution on the 2x3 output, we will need to pad it with 2x2 border of zeros on both sides.\n",
    "\n",
    "Steps:\n",
    "1. Take the input feature map that is potentially from a previous convolution operation output.\n",
    "2. Get the kernel and do the conv with the top left corner of the input.\n",
    "3. Cotinue with all the four corners of the 2x2 input and get the dot products.\n",
    "4. For the dot product outputs that overlap, we add those all up and get the 3x3 output in from a 2x2 input. \n",
    " \n",
    " "
   ]
  },
  {
   "cell_type": "code",
   "execution_count": null,
   "metadata": {},
   "outputs": [],
   "source": []
  }
 ],
 "metadata": {
  "kernelspec": {
   "display_name": "Python 3",
   "language": "python",
   "name": "python3"
  },
  "language_info": {
   "codemirror_mode": {
    "name": "ipython",
    "version": 3
   },
   "file_extension": ".py",
   "mimetype": "text/x-python",
   "name": "python",
   "nbconvert_exporter": "python",
   "pygments_lexer": "ipython3",
   "version": "3.7.3"
  }
 },
 "nbformat": 4,
 "nbformat_minor": 2
}
